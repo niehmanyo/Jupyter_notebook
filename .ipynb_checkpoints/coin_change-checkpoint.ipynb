{
 "cells": [
  {
   "cell_type": "markdown",
   "id": "ab9ff41c",
   "metadata": {},
   "source": [
    "### Coin change problem"
   ]
  },
  {
   "cell_type": "code",
   "execution_count": 21,
   "id": "638f89e4",
   "metadata": {},
   "outputs": [
    {
     "name": "stdout",
     "output_type": "stream",
     "text": [
      "Please input the number you want:86\n",
      "Please input the total number of coin6\n",
      "Please input No. 1 money in descending order\n",
      "100\n",
      "Please input No. 2 money in descending order\n",
      "50\n",
      "Please input No. 3 money in descending order\n",
      "25\n",
      "Please input No. 4 money in descending order\n",
      "10\n",
      "Please input No. 5 money in descending order\n",
      "5\n",
      "Please input No. 6 money in descending order\n",
      "1\n",
      "50 for 1,25 for 1,10 for 1,1 for 1,"
     ]
    }
   ],
   "source": [
    "import numpy as np\n",
    "x=int(input(\"Please input the number you want:\"))\n",
    "n=int(input(\"Please input the total number of coin\"))\n",
    "List=[]\n",
    "for i in range(n):\n",
    "    print(\"Please input No.\",i+1,\"money in descending order\")\n",
    "    money=int(input())\n",
    "    List.append(money)\n",
    "coin=np.zeros(len(List),dtype=np.int_)\n",
    "index=0\n",
    "while(x>0):\n",
    "    if(x>=List[index]):\n",
    "        coin[index]+=1\n",
    "        x-=List[index]\n",
    "    else:\n",
    "        index+=1\n",
    "for i in range(len(List)):\n",
    "    if(coin[i]!=0):\n",
    "        print(List[i],\"for\",coin[i],end=\",\") "
   ]
  },
  {
   "cell_type": "code",
   "execution_count": 40,
   "id": "42a67ea2",
   "metadata": {
    "scrolled": false
   },
   "outputs": [
    {
     "name": "stdout",
     "output_type": "stream",
     "text": [
      "Please input string 1:asdd\n",
      "Please input string 2:dsa\n",
      "[['a' '' '' '' '']\n",
      " ['' '' '' '' '']\n",
      " ['' '' '' '' '']\n",
      " ['' '' '' '' '']]\n"
     ]
    }
   ],
   "source": [
    "def common_sequence(array,max_str,min_str)\n",
    "str1=input(\"Please input string 1:\")\n",
    "str2=input(\"Please input string 2:\")\n",
    "if(len(str1)>len(str2)):\n",
    "    max_str=str1\n",
    "    min_str=str2\n",
    "else:\n",
    "    max_str=str2\n",
    "    min_str=str1\n",
    "array1=np.zeros((len(min_str)+1,len(max_str)+1),dtype=np.int_)\n"
   ]
  },
  {
   "cell_type": "code",
   "execution_count": null,
   "id": "63a69c87",
   "metadata": {},
   "outputs": [],
   "source": []
  }
 ],
 "metadata": {
  "kernelspec": {
   "display_name": "Python 3",
   "language": "python",
   "name": "python3"
  },
  "language_info": {
   "codemirror_mode": {
    "name": "ipython",
    "version": 3
   },
   "file_extension": ".py",
   "mimetype": "text/x-python",
   "name": "python",
   "nbconvert_exporter": "python",
   "pygments_lexer": "ipython3",
   "version": "3.8.8"
  }
 },
 "nbformat": 4,
 "nbformat_minor": 5
}
