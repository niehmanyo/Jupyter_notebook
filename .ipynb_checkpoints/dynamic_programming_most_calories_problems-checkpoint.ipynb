{
 "cells": [
  {
   "cell_type": "markdown",
   "id": "94d66c57",
   "metadata": {},
   "source": [
    "## Dynamic Programming \n",
    "\n",
    "#### (i) Construction of Algorithm\n",
    "##### matrix:This method is to create a matrix that user can input all calories elements.\n",
    "<i>In this method,there are two parameters:i and j, i is the number of row and j is the number of column.I create an all zeros matrix by using numpy and then I could input each element in this matrix. Finally return this matrix.</i>  \n",
    "##### p1_dyna_calories: This method is to calculate the maximum calories that Person 1 burnt.\n",
    "<i>Using bottom to up approach</i>\n",
    "* 1.Three parameters:ma(calories matrix),i(<b>steps of moving up</b>),j(<b>steps of moving left</b>)\n",
    "* 2.Because the person 1 should be back to (0,0) from (p-1,q-1),so we should move left q-1 steps and move up p-1 steps\n",
    "* 3.Then,we should determine whether the total calories cost of moving left is bigger than moving up.If moving up, stpes of up will reduce by 1,same as moving left.So this method should using recursive thinking, which is return max(ma[i,j]+p1_dyna_calories(ma,i-1,j)<b>(Moving up)</b>,ma[i,j]+p1_dyna_calories(ma,i,j-1)<b>(Moving left)</b>)\n",
    "* 4.If i==0,which means person 1 is in the first row,so person 1 cannot move up,the last thing is to move left,so we calculate the sum of last left elements to find the calories;If j==0,which means person 1 is in the first column,so person 1 cannot move left,the last thing is to move up,same as i==0;\n",
    "* 5.If i==0 and j==0 at the same time,meaning person 1 is in the (0,0).\n",
    "\n",
    "##### p2_dyna_calories: This method is to calculate the maximum calories that Person 2 burnt.\n",
    "<i>Using bottom to up approach(Different from p1_dyna_calories)</i>\n",
    "* 1.Five parameters:ma(calories matrix),i(<b>Position of row(i)</b>),j(<b>Position of column(j)</b>),mvLeft(<b>steps of moving left</b>),mvDown(<b>steps of moving dowm</b>)\n",
    "* 2.Because Person 2 is moving to (p-1,0) from (0,q-1),which is different from Person 1.The position of Person 1 (i,j) can be considered that there are i steps to moving up and j steps to moving left.But according to Person,we should record the steps and postion at the same time. Also,moving down will make i+1 and steps-1.\n",
    "* 3.Same thinking as p1_dyna_calories, return the max(ma[i,j]+p2_dyna_calories(ma,i+1,j,mvLeft,mvDown-1)<b>(Moving down,i+1 and mvDown-1)</b>,ma[i,j]+p2_dyna_calories(ma,i,j-1,mvLeft-1,mvDown)<b>(Moving left,j-1 and mvLeft-1)</b>).Comparing this steps and find the maximum calories."
   ]
  },
  {
   "cell_type": "code",
   "execution_count": 31,
   "id": "4e03b4fb",
   "metadata": {},
   "outputs": [],
   "source": [
    "import numpy as np\n",
    "import timeit as ti\n",
    "def matrix(i,j):\n",
    "    ma=np.zeros((i,j))\n",
    "    for x in range(i):\n",
    "        for y in range(j):\n",
    "            print(\"Please input the\",x*(i+1)+y,\"element\")\n",
    "            ma[x,y]=int(input())\n",
    "    return ma\n",
    "def p1_dyna_calories(ma,i,j):###This is the route about person 1, using Bottom up approach \n",
    "    move_up=i ### This is opposite to the bottom\n",
    "    move_left=j ###This is opposite to the right \n",
    "    if(move_left==0 and move_up==0):\n",
    "        return ma[0,0]\n",
    "    elif(move_left==0):\n",
    "        bt=0\n",
    "        while(i>=0):\n",
    "            bt+=ma[i,0]\n",
    "            i-=1\n",
    "        return bt\n",
    "    elif(move_up==0):\n",
    "        rt=0\n",
    "        while(j>=0):\n",
    "            rt+=ma[0,j]\n",
    "            j-=1\n",
    "        return rt\n",
    "    else:\n",
    "        return max((ma[i,j]+p1_dyna_programming(ma,i-1,j)),(ma[i,j]+p1_dyna_programming(ma,i,j-1)))\n",
    "def p2_dyna_calories(ma,i,j,mvLeft,mvDown):\n",
    "    if(mvLeft==0 and mvDown==0):\n",
    "        return ma[i,0]\n",
    "    elif(mvLeft==0):\n",
    "        calories=0\n",
    "        while(mvDown>=0):\n",
    "            calories+=ma[i,0]\n",
    "            i+=1\n",
    "            mvDown-=1\n",
    "        return calories\n",
    "    elif(mvDown==0):\n",
    "        calories=0\n",
    "        while(mvLeft>=0):\n",
    "            calories+=ma[i,mvLeft]\n",
    "            mvLeft-=1\n",
    "        return calories\n",
    "    else:\n",
    "        return max((ma[i,j]+p2_dyna_calories(ma,i,j-1,mvLeft-1,mvDown)),(ma[i,j]+p2_dyna_calories(ma,i+1,j,mvLeft,mvDown-1)))\n"
   ]
  },
  {
   "cell_type": "markdown",
   "id": "07fda752",
   "metadata": {},
   "source": [
    "#### (ii)Analysis of Algorithm\n"
   ]
  },
  {
   "cell_type": "markdown",
   "id": "76f4fb5e",
   "metadata": {},
   "source": [
    "#### (iii)Scenario \n",
    "* 1.Input i and j\n",
    "* 2.Time consuming"
   ]
  },
  {
   "cell_type": "code",
   "execution_count": 35,
   "id": "caf08be0",
   "metadata": {},
   "outputs": [
    {
     "name": "stdout",
     "output_type": "stream",
     "text": [
      "Please input the row3\n",
      "Please input the column3\n",
      "Please input the 0 element\n",
      "1\n",
      "Please input the 1 element\n",
      "2\n",
      "Please input the 2 element\n",
      "3\n",
      "Please input the 4 element\n",
      "4\n",
      "Please input the 5 element\n",
      "5\n",
      "Please input the 6 element\n",
      "6\n",
      "Please input the 8 element\n",
      "7\n",
      "Please input the 9 element\n",
      "8\n",
      "Please input the 10 element\n",
      "9\n",
      "[[1. 2. 3.]\n",
      " [4. 5. 6.]\n",
      " [7. 8. 9.]]\n",
      "The time costs by algorithm person 1 is 0.000119s\n",
      "The maximum calories of Person 1 is 29\n",
      "The time costs by person 2 is 0.000117s\n",
      "The maximum calories of Person 2 is 33\n"
     ]
    }
   ],
   "source": [
    "i=int(input(\"Please input the row\"))\n",
    "j=int(input(\"Please input the column\"))\n",
    "ma=matrix(i,j)\n",
    "print(ma)\n",
    "\n",
    "start=ti.default_timer()\n",
    "cal1=p1_dyna_calories(ma,i-1,j-1)\n",
    "end=ti.default_timer()\n",
    "\n",
    "print(\"The time costs by algorithm person 1 is %fs\"%(end-start))\n",
    "print(\"The maximum calories of Person 1 is %d\"%cal1)\n",
    "start=ti.default_timer()\n",
    "cal2=p2_dyna_calories(ma,0,j-1,j-1,i-1)\n",
    "end=ti.default_timer()\n",
    "print(\"The time costs by person 2 is %fs\"%(end-start))\n",
    "print(\"The maximum calories of Person 2 is %d\"%cal2)\n"
   ]
  },
  {
   "cell_type": "code",
   "execution_count": null,
   "id": "bac7f01f",
   "metadata": {},
   "outputs": [],
   "source": []
  }
 ],
 "metadata": {
  "kernelspec": {
   "display_name": "Python 3",
   "language": "python",
   "name": "python3"
  },
  "language_info": {
   "codemirror_mode": {
    "name": "ipython",
    "version": 3
   },
   "file_extension": ".py",
   "mimetype": "text/x-python",
   "name": "python",
   "nbconvert_exporter": "python",
   "pygments_lexer": "ipython3",
   "version": "3.8.8"
  }
 },
 "nbformat": 4,
 "nbformat_minor": 5
}
