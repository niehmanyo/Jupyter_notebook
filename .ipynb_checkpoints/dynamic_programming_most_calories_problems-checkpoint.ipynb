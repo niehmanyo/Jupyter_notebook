{
 "cells": [
  {
   "cell_type": "markdown",
   "id": "94d66c57",
   "metadata": {},
   "source": [
    "## Dynamic Programming \n",
    "#### Most calories mapping\n",
    "#### Bottom up approach"
   ]
  },
  {
   "cell_type": "code",
   "execution_count": 22,
   "id": "4e03b4fb",
   "metadata": {},
   "outputs": [
    {
     "name": "stdout",
     "output_type": "stream",
     "text": [
      "Please input the row3\n",
      "Please input the column3\n",
      "Please input the 0 0 element\n",
      "12\n",
      "Please input the 0 1 element\n",
      "2\n",
      "Please input the 0 2 element\n",
      "3\n",
      "Please input the 1 0 element\n",
      "4\n",
      "Please input the 1 1 element\n",
      "5\n",
      "Please input the 1 2 element\n",
      "6\n",
      "Please input the 2 0 element\n",
      "1\n",
      "Please input the 2 1 element\n",
      "7\n",
      "Please input the 2 2 element\n",
      "8\n",
      "[[12.  2.  3.]\n",
      " [ 4.  5.  6.]\n",
      " [ 1.  7.  8.]]\n",
      "36.0\n"
     ]
    }
   ],
   "source": [
    "import numpy as np\n",
    "def matrix(i,j):\n",
    "    ma=np.zeros((i,j))\n",
    "    for x in range(i):\n",
    "        for y in range(j):\n",
    "            print(\"Please input the\",x,y,\"element\")\n",
    "            ma[x,y]=int(input())\n",
    "    return ma\n",
    "def dyna_programming(ma,i,j):###This is the route about person 1, using Bottom up approach \n",
    "    move_left=j ###This is opposite to the right \n",
    "    move_up=i ### This is opposite to the bottom\n",
    "    if(move_left==0 and move_up==0):\n",
    "        return ma[0,0]\n",
    "    elif(move_left==0):\n",
    "        bt=0\n",
    "        while(i>=0):\n",
    "            bt+=ma[i,0]\n",
    "            i-=1\n",
    "        return bt\n",
    "    elif(move_up==0):\n",
    "        rt=0\n",
    "        while(j>=0):\n",
    "            rt+=ma[0,j]\n",
    "            j-=1\n",
    "        return rt\n",
    "    else:\n",
    "        return max((ma[i,j]+dyna_programming(ma,i-1,j)),(ma[i,j]+dyna_programming(ma,i,j-1)))\n",
    "i=int(input(\"Please input the row\"))\n",
    "j=int(input(\"Please input the column\"))\n",
    "ma=matrix(i,j)\n",
    "print(ma)\n",
    "print(dyna_programming(ma,i-1,j-1))"
   ]
  },
  {
   "cell_type": "code",
   "execution_count": 25,
   "id": "e45893b2",
   "metadata": {},
   "outputs": [
    {
     "name": "stdout",
     "output_type": "stream",
     "text": [
      "Help on method raw_input in module ipykernel.kernelbase:\n",
      "\n",
      "raw_input(prompt='') method of ipykernel.ipkernel.IPythonKernel instance\n",
      "    Forward raw_input to frontends\n",
      "    \n",
      "    Raises\n",
      "    ------\n",
      "    StdinNotImplentedError if active frontend doesn't support stdin.\n",
      "\n"
     ]
    }
   ],
   "source": [
    "help(input)"
   ]
  },
  {
   "cell_type": "code",
   "execution_count": null,
   "id": "9847780e",
   "metadata": {},
   "outputs": [],
   "source": []
  }
 ],
 "metadata": {
  "kernelspec": {
   "display_name": "Python 3",
   "language": "python",
   "name": "python3"
  },
  "language_info": {
   "codemirror_mode": {
    "name": "ipython",
    "version": 3
   },
   "file_extension": ".py",
   "mimetype": "text/x-python",
   "name": "python",
   "nbconvert_exporter": "python",
   "pygments_lexer": "ipython3",
   "version": "3.8.8"
  }
 },
 "nbformat": 4,
 "nbformat_minor": 5
}
