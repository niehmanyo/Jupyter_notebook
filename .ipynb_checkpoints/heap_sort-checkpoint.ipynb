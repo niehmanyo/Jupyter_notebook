{
 "cells": [
  {
   "cell_type": "markdown",
   "id": "d9c4d775",
   "metadata": {},
   "source": [
    "### Heap Sort\n",
    "* Siftdown: To create a Heap which the smallest element is in the first position"
   ]
  },
  {
   "cell_type": "code",
   "execution_count": 41,
   "id": "d7b3bc08",
   "metadata": {},
   "outputs": [
    {
     "name": "stdout",
     "output_type": "stream",
     "text": [
      "[3, 2, 5, 6, 1, 8, 7, 10]\n",
      "[]\n",
      "[]\n",
      "[10, 8, 7, 6, 5, 3, 2, 1]\n"
     ]
    }
   ],
   "source": [
    "def siftdown(List,i):\n",
    "    largest=i\n",
    "    lson=2*i+1 #left son\n",
    "    rson=2*i+2 #right son\n",
    "    largest_son=lson\n",
    "    if(lson<=len(List)-1):\n",
    "        if(rson<len(List)-1):\n",
    "            if(List[lson]>List[rson]):\n",
    "                largest_son=lson\n",
    "            else:\n",
    "                largest_son=rson\n",
    "        if(List[largest]<List[largest_son]):\n",
    "            swap(List,largest,largest_son)\n",
    "            siftdown(List,largest_son)\n",
    "def makeHeap(List):\n",
    "    size=len(List)\n",
    "    small_father=int((size)/2)\n",
    "    while(small_father>=0):\n",
    "        siftdown(List,small_father)\n",
    "        small_father-=1\n",
    "def removeKey(List,S):\n",
    "    key=List[0]\n",
    "    S.append(key)\n",
    "    List.remove(List[0])\n",
    "def swap(List,i,j):\n",
    "    temp=List[i]\n",
    "    List[i]=List[j]\n",
    "    List[j]=temp\n",
    "def HeapSort(List,S):\n",
    "    i=0\n",
    "    if(i<=len(List)-1):\n",
    "        makeHeap(List)\n",
    "        removeKey(List,S)\n",
    "        HeapSort(List,S)\n",
    "List=[3,2,5,6,1,8,7,10]\n",
    "S=[]\n",
    "print(List)\n",
    "print(S)\n",
    "HeapSort(List,S)\n",
    "print(List)\n",
    "print(S)"
   ]
  },
  {
   "cell_type": "code",
   "execution_count": null,
   "id": "9403dfb5",
   "metadata": {},
   "outputs": [],
   "source": []
  },
  {
   "cell_type": "code",
   "execution_count": null,
   "id": "e31b2d26",
   "metadata": {},
   "outputs": [],
   "source": []
  }
 ],
 "metadata": {
  "kernelspec": {
   "display_name": "Python 3",
   "language": "python",
   "name": "python3"
  },
  "language_info": {
   "codemirror_mode": {
    "name": "ipython",
    "version": 3
   },
   "file_extension": ".py",
   "mimetype": "text/x-python",
   "name": "python",
   "nbconvert_exporter": "python",
   "pygments_lexer": "ipython3",
   "version": "3.8.8"
  }
 },
 "nbformat": 4,
 "nbformat_minor": 5
}
