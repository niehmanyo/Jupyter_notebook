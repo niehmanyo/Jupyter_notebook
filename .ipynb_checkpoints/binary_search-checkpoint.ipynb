{
 "cells": [
  {
   "cell_type": "markdown",
   "id": "568a728b",
   "metadata": {},
   "source": []
  },
  {
   "cell_type": "code",
   "execution_count": 2,
   "id": "602c1bc1",
   "metadata": {},
   "outputs": [
    {
     "name": "stdout",
     "output_type": "stream",
     "text": [
      "[1, 3, 4, 22, 23, 99, 100, 420, 874]\n"
     ]
    }
   ],
   "source": [
    "def function(arg):\n",
    "    for i in range(0,len(arg)):\n",
    "       for j in range(0,len(arg)-1):\n",
    "        if(arg[j]>arg[j+1]):\n",
    "            temp=arg[j]\n",
    "            arg[j]=arg[j+1]\n",
    "            arg[j+1]=temp\n",
    "        \n",
    "i=[1,23,3,4,99,100,420,874,22]\n",
    "function(i)\n",
    "print(i)"
   ]
  },
  {
   "cell_type": "markdown",
   "id": "f1719ae4",
   "metadata": {},
   "source": [
    "### BinarySearch\n",
    "##### This is topic one\n"
   ]
  },
  {
   "cell_type": "markdown",
   "id": "41ecccba",
   "metadata": {},
   "source": [
    "### 2021/10/10\n",
    "<p>Using WHILE to do Binary Search</p>"
   ]
  },
  {
   "cell_type": "code",
   "execution_count": 18,
   "id": "316798bf",
   "metadata": {},
   "outputs": [
    {
     "name": "stdout",
     "output_type": "stream",
     "text": [
      "[13, 22, 11, 50, 43, 79, 66, 30, 100, 17, 33, 24]\n",
      "[11, 13, 17, 22, 30, 33, 43, 50, 66, 79, 100, 24]\n",
      "9\n"
     ]
    }
   ],
   "source": [
    "def binarySearch(arg,x):\n",
    "    last=len(arg)-1\n",
    "    first=0\n",
    "    while(first<=last):\n",
    "        mid=(int)((first+last)/2)\n",
    "        if arg[mid] is x:\n",
    "            return mid\n",
    "        if arg[mid]<x:\n",
    "            first=mid+1\n",
    "        else:\n",
    "            last=mid-1\n",
    "    return -1\n",
    "def BubbleSort(arg):\n",
    "    for i in range(0,len(arg)):\n",
    "        for j in range(0,len(arg)-2):\n",
    "            if arg[j]>arg[j+1]:\n",
    "                temp=arg[j]\n",
    "                arg[j]=arg[j+1]\n",
    "                arg[j+1]=temp\n",
    "i=[13,22,11,50,43,79,66,30,100,17,33,24]\n",
    "print(i)\n",
    "BubbleSort(i)\n",
    "print(i)\n",
    "x=binarySearch(i,79)\n",
    "print(x)"
   ]
  },
  {
   "cell_type": "markdown",
   "id": "36f24b9b",
   "metadata": {},
   "source": [
    "### Divide and Conqer Thinking\n",
    "<p>Binary Search</p>"
   ]
  },
  {
   "cell_type": "code",
   "execution_count": null,
   "id": "7c242248",
   "metadata": {},
   "outputs": [],
   "source": []
  }
 ],
 "metadata": {
  "kernelspec": {
   "display_name": "Python 3",
   "language": "python",
   "name": "python3"
  },
  "language_info": {
   "codemirror_mode": {
    "name": "ipython",
    "version": 3
   },
   "file_extension": ".py",
   "mimetype": "text/x-python",
   "name": "python",
   "nbconvert_exporter": "python",
   "pygments_lexer": "ipython3",
   "version": "3.8.8"
  }
 },
 "nbformat": 4,
 "nbformat_minor": 5
}
