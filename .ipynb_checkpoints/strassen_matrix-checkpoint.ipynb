{
 "cells": [
  {
   "cell_type": "code",
   "execution_count": 82,
   "id": "b934052a",
   "metadata": {},
   "outputs": [
    {
     "name": "stdout",
     "output_type": "stream",
     "text": [
      "[[ 1  2  3  4]\n",
      " [ 5  6  7  8]\n",
      " [ 9 10 11 12]\n",
      " [13 14 15 16]]\n",
      "--------------------------------------------------\n",
      "[[17 18 19 20]\n",
      " [21 22 23 24]\n",
      " [25 26 27 28]\n",
      " [29 30 31 32]]\n",
      "--------------------------------------------------\n",
      "[[ 250  260  270  280]\n",
      " [ 618  644  670  696]\n",
      " [ 986 1028 1070 1112]\n",
      " [1354 1412 1470 1528]]\n"
     ]
    }
   ],
   "source": [
    "import numpy as np\n",
    "def split_four(matrix):\n",
    "    row=matrix.shape[0]\n",
    "    col=matrix.shape[1]\n",
    "    return matrix[:row//2,:col//2],matrix[:row//2,col//2:],matrix[row//2:,:col//2],matrix[row//2:,col//2:]\n",
    "def strassen(A,B):\n",
    "    row1=A.shape[0]\n",
    "    col1=A.shape[1]\n",
    "    row2=B.shape[0]\n",
    "    col2=B.shape[1]\n",
    "    if(row1==1 and col1==1 and row2==1 and col2==1):\n",
    "        return A*B\n",
    "    else:\n",
    "        a11,a12,a21,a22=split_four(A)\n",
    "        b11,b12,b21,b22=split_four(B)\n",
    "        m1=strassen(a11+a22,b11+b22)\n",
    "        m2=strassen(a21+a22,b11)\n",
    "        m3=strassen(a11,b12-b22)\n",
    "        m4=strassen(a22,b21-b11)\n",
    "        m5=strassen(a11+a12,b22)\n",
    "        m6=strassen(a21-a11,b11+b12)\n",
    "        m7=strassen(a12-a22,b21+b22)\n",
    "        c11=m1+m4-m5+m7\n",
    "        c12=m3+m5\n",
    "        c21=m2+m4\n",
    "        c22=m1+m3-m2+m6\n",
    "        c1=np.hstack((c11,c12))\n",
    "        c2=np.hstack((c21,c22))\n",
    "        c=np.vstack((c1,c2))\n",
    "        return c\n",
    "a=np.array([[1,2,3,4],[5,6,7,8],[9,10,11,12],[13,14,15,16]])\n",
    "b=np.array([[17,18,19,20],[21,22,23,24],[25,26,27,28],[29,30,31,32]])\n",
    "\n",
    "print(a)\n",
    "l='-'*50\n",
    "print(l)\n",
    "print(b)\n",
    "print(l)\n",
    "c=strassen(a,b)\n",
    "print(c)"
   ]
  },
  {
   "cell_type": "code",
   "execution_count": null,
   "id": "a3be86b2",
   "metadata": {},
   "outputs": [],
   "source": []
  },
  {
   "cell_type": "code",
   "execution_count": null,
   "id": "25f9609a",
   "metadata": {},
   "outputs": [],
   "source": []
  }
 ],
 "metadata": {
  "kernelspec": {
   "display_name": "Python 3",
   "language": "python",
   "name": "python3"
  },
  "language_info": {
   "codemirror_mode": {
    "name": "ipython",
    "version": 3
   },
   "file_extension": ".py",
   "mimetype": "text/x-python",
   "name": "python",
   "nbconvert_exporter": "python",
   "pygments_lexer": "ipython3",
   "version": "3.8.8"
  }
 },
 "nbformat": 4,
 "nbformat_minor": 5
}
