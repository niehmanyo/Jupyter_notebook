{
 "cells": [
  {
   "cell_type": "markdown",
   "id": "ea15e477",
   "metadata": {},
   "source": [
    "### Radix Sort"
   ]
  },
  {
   "cell_type": "code",
   "execution_count": 51,
   "id": "978ac866",
   "metadata": {},
   "outputs": [
    {
     "name": "stdout",
     "output_type": "stream",
     "text": [
      "[101, 99, 100, 32, 70, 49, 20, 55, 34, 54, 43, 65, 62, 87, 11, 9, 102, 300, 702, 810, 222, 321, 333]\n",
      "[[100, 70, 20, 300, 810], [101, 11, 321], [32, 62, 102, 702, 222], [43, 333], [34, 54], [55, 65], [], [87], [], [99, 49, 9]]\n",
      "[[100, 300, 101, 102, 702, 9], [810, 11], [20, 321, 222], [32, 333, 34], [43, 49], [54, 55], [62, 65], [70], [87], [99]]\n",
      "[[9, 11, 20, 32, 34, 43, 49, 54, 55, 62, 65, 70, 87, 99], [100, 101, 102], [222], [300, 321, 333], [], [], [], [702], [810], []]\n",
      "[9, 11, 20, 32, 34, 43, 49, 54, 55, 62, 65, 70, 87, 99, 100, 101, 102, 222, 300, 321, 333, 702, 810]\n",
      "Time is cost with 0.000714s\n"
     ]
    }
   ],
   "source": [
    "# Since All new list created in function cannot be stored,I use return to store the new sorted list4\n",
    "import timeit\n",
    "def distribute(List,list1,i):#To sort the list from i-th base\n",
    "    copy_list=[[],[],[],[],[],[],[],[],[],[]]\n",
    "    if(i==0):\n",
    "        for j in range(len(List)):\n",
    "            copy_list[List[j]%10].append(List[j])\n",
    "        return copy_list\n",
    "    else:\n",
    "        base=10\n",
    "        for index in range(1,i):\n",
    "            base*=10\n",
    "        for j in range(len(list1)):\n",
    "            for k in range(len(list1[j])):\n",
    "                copy_list[(list1[j][k]//base)%10].append(list1[j][k])\n",
    "        return copy_list\n",
    "        \n",
    "def radixSort(List,numdigit):\n",
    "    list1=[]\n",
    "    for i in range(numdigit):\n",
    "        list1=distribute(List,list1,i)\n",
    "        print(list1)\n",
    "        List=coalesce(list1)\n",
    "    return List\n",
    "\n",
    "def coalesce(list1):\n",
    "    List=[]\n",
    "    for i in range(len(list1)):\n",
    "        for j in range(len(list1[i])):\n",
    "            List.append(list1[i][j])\n",
    "    return List\n",
    "List=[101,99,100,32,70,49,20,55,34,54,43,65,62,87,11,9,102,300,702,810,222,321,333]\n",
    "print(List)\n",
    "start=timeit.default_timer()\n",
    "List=radixSort(List,3) \n",
    "end=timeit.default_timer()\n",
    "print(List)\n",
    "print(\"Time is cost with %fs\"%(end-start))"
   ]
  },
  {
   "cell_type": "code",
   "execution_count": null,
   "id": "ef384111",
   "metadata": {},
   "outputs": [],
   "source": []
  },
  {
   "cell_type": "code",
   "execution_count": null,
   "id": "fb7ea0f0",
   "metadata": {},
   "outputs": [],
   "source": []
  }
 ],
 "metadata": {
  "kernelspec": {
   "display_name": "Python 3",
   "language": "python",
   "name": "python3"
  },
  "language_info": {
   "codemirror_mode": {
    "name": "ipython",
    "version": 3
   },
   "file_extension": ".py",
   "mimetype": "text/x-python",
   "name": "python",
   "nbconvert_exporter": "python",
   "pygments_lexer": "ipython3",
   "version": "3.8.8"
  }
 },
 "nbformat": 4,
 "nbformat_minor": 5
}
