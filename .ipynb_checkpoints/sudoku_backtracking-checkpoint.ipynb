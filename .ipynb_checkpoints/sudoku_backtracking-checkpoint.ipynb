{
 "cells": [
  {
   "cell_type": "code",
   "execution_count": 9,
   "id": "2b970f92",
   "metadata": {},
   "outputs": [
    {
     "name": "stdout",
     "output_type": "stream",
     "text": [
      "[['5' '3' '.' '.' '7' '.' '.' '.' '.']\n",
      " ['6' '.' '.' '1' '9' '5' '.' '.' '.']\n",
      " ['.' '9' '8' '.' '.' '.' '.' '6' '.']\n",
      " ['8' '.' '.' '.' '6' '.' '.' '.' '3']\n",
      " ['4' '.' '.' '8' '.' '3' '.' '.' '1']\n",
      " ['7' '.' '.' '.' '2' '.' '.' '.' '6']\n",
      " ['.' '6' '.' '.' '.' '.' '2' '8' '.']\n",
      " ['.' '.' '.' '4' '1' '9' '.' '.' '5']\n",
      " ['.' '.' '.' '.' '8' '.' '.' '7' '9']]\n",
      "--------------------------------------------------\n",
      "[['5' '3' '4' '6' '7' '8' '9' '1' '2']\n",
      " ['6' '7' '2' '1' '9' '5' '3' '4' '8']\n",
      " ['1' '9' '8' '3' '4' '2' '5' '6' '7']\n",
      " ['8' '5' '9' '7' '6' '1' '4' '2' '3']\n",
      " ['4' '2' '6' '8' '5' '3' '7' '9' '1']\n",
      " ['7' '1' '3' '9' '2' '4' '8' '5' '6']\n",
      " ['9' '6' '1' '5' '3' '7' '2' '8' '4']\n",
      " ['2' '8' '7' '4' '1' '9' '6' '3' '5']\n",
      " ['3' '4' '5' '2' '8' '6' '1' '7' '9']]\n",
      "--------------------------------------------------\n",
      "This algorithm cost 0.6223s\n"
     ]
    }
   ],
   "source": [
    "import numpy as np\n",
    "import timeit\n",
    "def detemineSudoku(array,i,j,number):\n",
    "    for j1 in range(0,9):\n",
    "        if(array[i,j1]==number and j1!=j):\n",
    "            return False\n",
    "    for i1 in range(0,9):\n",
    "        if(array[i1,j]==number and i1!=i):\n",
    "            return False\n",
    "    x1=i//3\n",
    "    y1=j//3\n",
    "    for i2 in range(3*x1,3*x1+3):\n",
    "        for j2 in range(3*y1,3*y1+3):\n",
    "            if(array[i2,j2]==number and (i2!=i or j2!=j)):\n",
    "                return False\n",
    "    return True\n",
    "def Sudoku(array,n):\n",
    "    if(n>80):\n",
    "        print(arr)\n",
    "        return;\n",
    "    else:\n",
    "        i=n//9\n",
    "        j=n%9\n",
    "        if(array[i,j]!='.'):\n",
    "            Sudoku(array,n+1)\n",
    "        else:\n",
    "            for number in range(1,10):\n",
    "                if(detemineSudoku(array,i,j,str(number))):\n",
    "                    arr[i,j]=str(number)\n",
    "                    Sudoku(array,n+1)\n",
    "                    arr[i,j]='.'\n",
    "arr=np.array([['5','3','.','.','7','.','.','.','.'],\n",
    "              ['6','.','.','1','9','5','.','.','.'],\n",
    "              ['.','9','8','.','.','.','.','6','.'],\n",
    "              ['8','.','.','.','6','.','.','.','3'],\n",
    "              ['4','.','.','8','.','3','.','.','1'],\n",
    "              ['7','.','.','.','2','.','.','.','6'],\n",
    "              ['.','6','.','.','.','.','2','8','.'],\n",
    "              ['.','.','.','4','1','9','.','.','5'],\n",
    "              ['.','.','.','.','8','.','.','7','9'],])\n",
    "print(arr)\n",
    "print(\"-\"*50)\n",
    "start=timeit.default_timer()\n",
    "Sudoku(arr,0)\n",
    "end=timeit.default_timer()\n",
    "print(\"-\"*50)\n",
    "print(\"This algorithm cost %.4fs\"%(end-start))"
   ]
  },
  {
   "cell_type": "code",
   "execution_count": null,
   "id": "08d0fe37",
   "metadata": {},
   "outputs": [],
   "source": []
  }
 ],
 "metadata": {
  "kernelspec": {
   "display_name": "Python 3",
   "language": "python",
   "name": "python3"
  },
  "language_info": {
   "codemirror_mode": {
    "name": "ipython",
    "version": 3
   },
   "file_extension": ".py",
   "mimetype": "text/x-python",
   "name": "python",
   "nbconvert_exporter": "python",
   "pygments_lexer": "ipython3",
   "version": "3.8.8"
  }
 },
 "nbformat": 4,
 "nbformat_minor": 5
}
