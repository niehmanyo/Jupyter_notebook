{
 "cells": [
  {
   "cell_type": "markdown",
   "id": "5ea4783e",
   "metadata": {},
   "source": [
    "### Binary Tree"
   ]
  },
  {
   "cell_type": "code",
   "execution_count": 2,
   "id": "9ae412fc",
   "metadata": {},
   "outputs": [
    {
     "name": "stdout",
     "output_type": "stream",
     "text": [
      "12\n"
     ]
    }
   ],
   "source": [
    "class Node():\n",
    "    def __init__(self,key):\n",
    "        self.key=key\n",
    "        self.left=None\n",
    "        self.right=None\n",
    "def preOrder(node):\n",
    "    if(node!=None):\n",
    "        print(node.key)\n",
    "        preOrder(node.left)\n",
    "        preOrder(node.right)\n",
    "def inOrder(node):\n",
    "    if(node!=None):\n",
    "        inOrder(node.left)\n",
    "        print(node.key)\n",
    "        inOrder(node.right)"
   ]
  },
  {
   "cell_type": "code",
   "execution_count": null,
   "id": "0ccf3513",
   "metadata": {},
   "outputs": [],
   "source": []
  }
 ],
 "metadata": {
  "kernelspec": {
   "display_name": "Python 3",
   "language": "python",
   "name": "python3"
  },
  "language_info": {
   "codemirror_mode": {
    "name": "ipython",
    "version": 3
   },
   "file_extension": ".py",
   "mimetype": "text/x-python",
   "name": "python",
   "nbconvert_exporter": "python",
   "pygments_lexer": "ipython3",
   "version": "3.8.8"
  }
 },
 "nbformat": 4,
 "nbformat_minor": 5
}
