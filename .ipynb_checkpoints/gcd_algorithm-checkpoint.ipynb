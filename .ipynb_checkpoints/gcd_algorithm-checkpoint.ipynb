{
 "cells": [
  {
   "cell_type": "markdown",
   "id": "9dc7dc00",
   "metadata": {},
   "source": [
    "## GCD Algorithm\n",
    "\n",
    "### <font color=\"#000CD\">1. Middle school algoriothm</font>\n"
   ]
  },
  {
   "cell_type": "code",
   "execution_count": 1,
   "id": "cff24eda",
   "metadata": {},
   "outputs": [
    {
     "name": "stdout",
     "output_type": "stream",
     "text": [
      "Please input the value of m:24\n",
      "Please input the value of n:1048\n",
      "The prime factorization of m is [1, 2, 2, 2, 3]\n",
      "The prime factorization of n is [1, 2, 2, 2, 131]\n",
      "The common prime factor list is [1, 2, 2, 2]\n",
      "The great common divisor of 24 and 1048 is 8\n",
      "The running time is 0.0003817999999995436 s\n"
     ]
    }
   ],
   "source": [
    "import timeit\n",
    "def factor_list(m):### This function is to find prime factorization and return\n",
    "    list=[1]\n",
    "    f=2\n",
    "    if(m==0):\n",
    "        return []\n",
    "    else:\n",
    "        while(f<=m):\n",
    "            if(m%f==0):\n",
    "                list.append(f)\n",
    "                m=m/f\n",
    "            else:\n",
    "                f+=1\n",
    "        return list\n",
    "def gcd_list(list1,list2): ### This function is to find all common prime factors and return\n",
    "    list=[]\n",
    "    n1=0\n",
    "    n2=0\n",
    "    while(n1<len(list1)and n2<len(list2)):\n",
    "        if(list1[n1]==list2[n2]):\n",
    "            list.append(list1[n1])\n",
    "            n1+=1\n",
    "            n2+=1\n",
    "        elif(list1[n1]>list2[n2]):\n",
    "            n2+=1\n",
    "        else:\n",
    "            n1+=1\n",
    "    return list\n",
    "def gcd(list): ### This function is to compute the product of all common prime factors and return\n",
    "    length=len(list)\n",
    "    product=1\n",
    "    for i in range(length):\n",
    "        product*=list[i]\n",
    "    if(length==0):\n",
    "        return 0\n",
    "    else:\n",
    "        return product\n",
    "m=(int)(input(\"Please input the value of m:\"))\n",
    "n=(int)(input(\"Please input the value of n:\"))\n",
    "start=timeit.default_timer()\n",
    "l1=factor_list(m)\n",
    "l2=factor_list(n)\n",
    "g1=gcd_list(l1,l2)\n",
    "gcd_value=gcd(g1)\n",
    "end=timeit.default_timer()\n",
    "print(\"The prime factorization of m is\",l1)\n",
    "print(\"The prime factorization of n is\",l2)\n",
    "print(\"The common prime factor list is\",gcd_list(l1,l2))\n",
    "print(\"The great common divisor of\",m,\"and\",n,\"is\",gcd_value)\n",
    "print(\"The running time is %s s\"%(end-start))"
   ]
  },
  {
   "cell_type": "markdown",
   "id": "34cdb9d9",
   "metadata": {},
   "source": [
    "### <font color=\"#000CD\">2. Consecutive integer checking algorithm</font>\n"
   ]
  },
  {
   "cell_type": "code",
   "execution_count": 2,
   "id": "543c4c38",
   "metadata": {},
   "outputs": [
    {
     "name": "stdout",
     "output_type": "stream",
     "text": [
      "Please input the value of m:24\n",
      "Please input the value of n:1024\n",
      "The gcd of 24 and 1024 is 8\n",
      "The running time is 5.479999999735696e-05 s\n"
     ]
    }
   ],
   "source": [
    "import timeit\n",
    "def CICA(m,n):\n",
    "    mini=min(m,n)\n",
    "    while(mini>0):\n",
    "        if(m%mini==0 and n% mini==0):\n",
    "            return mini\n",
    "        else:\n",
    "            mini-=1\n",
    "    return mini\n",
    "\n",
    "m=(int)(input(\"Please input the value of m:\"))\n",
    "n=(int)(input(\"Please input the value of n:\"))\n",
    "start=timeit.default_timer()\n",
    "gcd=CICA(m,n)\n",
    "end=timeit.default_timer()\n",
    "print(\"The gcd of\",m,\"and\",n,\"is\",gcd)\n",
    "print(\"The running time is %s s\"%(end-start))"
   ]
  },
  {
   "cell_type": "markdown",
   "id": "c529b2af",
   "metadata": {},
   "source": [
    "### <font color =\"#000CD\"> 3.Euclid's algorithm</font>"
   ]
  },
  {
   "cell_type": "code",
   "execution_count": 3,
   "id": "d225749d",
   "metadata": {},
   "outputs": [
    {
     "name": "stdout",
     "output_type": "stream",
     "text": [
      "Please input the value of m:36\n",
      "Please input the value of n:2048\n",
      "The gcd of 36 and 2048 is 4\n",
      "The running time is 7.169999999945276e-05 s\n"
     ]
    }
   ],
   "source": [
    "import timeit\n",
    "def Euclid(m,n):\n",
    "    m1=max(m,n)\n",
    "    m2=min(m,n)\n",
    "    r=m1%m2\n",
    "    while(r!=0):\n",
    "        m1=m2\n",
    "        m2=r\n",
    "        r=m1%m2\n",
    "    return m2\n",
    "m=(int)(input(\"Please input the value of m:\"))\n",
    "n=(int)(input(\"Please input the value of n:\"))\n",
    "start=timeit.default_timer()\n",
    "gcd=Euclid(m,n)\n",
    "end=timeit.default_timer()\n",
    "print(\"The gcd of\",m,\"and\",n,\"is\",gcd)\n",
    "print(\"The running time is %s s\"%(end-start))"
   ]
  }
 ],
 "metadata": {
  "kernelspec": {
   "display_name": "Python 3",
   "language": "python",
   "name": "python3"
  },
  "language_info": {
   "codemirror_mode": {
    "name": "ipython",
    "version": 3
   },
   "file_extension": ".py",
   "mimetype": "text/x-python",
   "name": "python",
   "nbconvert_exporter": "python",
   "pygments_lexer": "ipython3",
   "version": "3.8.8"
  }
 },
 "nbformat": 4,
 "nbformat_minor": 5
}
