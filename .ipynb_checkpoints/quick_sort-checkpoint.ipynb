{
 "cells": [
  {
   "cell_type": "markdown",
   "id": "9b0ab1ca",
   "metadata": {},
   "source": [
    "## Quick Sort\n"
   ]
  },
  {
   "cell_type": "code",
   "execution_count": 1,
   "id": "9c9fb836",
   "metadata": {
    "scrolled": true
   },
   "outputs": [
    {
     "name": "stdout",
     "output_type": "stream",
     "text": [
      "[33, 23, 14, 89, 98, 73, 6744, 52, 56, 100, 322, 87, 99, 22, 15, 16, 61, 70]\n",
      "Exchange index:[ 5 ] 16 and index:[ 0 ] 33\n",
      "[16, 23, 14, 22, 15, 33, 6744, 52, 56, 100, 322, 87, 99, 89, 98, 73, 61, 70]\n",
      "Exchange index:[ 2 ] 15 and index:[ 0 ] 16\n",
      "[15, 14, 16, 22, 23, 33, 6744, 52, 56, 100, 322, 87, 99, 89, 98, 73, 61, 70]\n",
      "Exchange index:[ 1 ] 14 and index:[ 0 ] 15\n",
      "[14, 15, 16, 22, 23, 33, 6744, 52, 56, 100, 322, 87, 99, 89, 98, 73, 61, 70]\n",
      "Exchange index:[ 3 ] 22 and index:[ 3 ] 22\n",
      "[14, 15, 16, 22, 23, 33, 6744, 52, 56, 100, 322, 87, 99, 89, 98, 73, 61, 70]\n",
      "Exchange index:[ 17 ] 70 and index:[ 6 ] 6744\n",
      "[14, 15, 16, 22, 23, 33, 70, 52, 56, 100, 322, 87, 99, 89, 98, 73, 61, 6744]\n",
      "Exchange index:[ 9 ] 61 and index:[ 6 ] 70\n",
      "[14, 15, 16, 22, 23, 33, 61, 52, 56, 70, 322, 87, 99, 89, 98, 73, 100, 6744]\n",
      "Exchange index:[ 8 ] 56 and index:[ 6 ] 61\n",
      "[14, 15, 16, 22, 23, 33, 56, 52, 61, 70, 322, 87, 99, 89, 98, 73, 100, 6744]\n",
      "Exchange index:[ 7 ] 52 and index:[ 6 ] 56\n",
      "[14, 15, 16, 22, 23, 33, 52, 56, 61, 70, 322, 87, 99, 89, 98, 73, 100, 6744]\n",
      "Exchange index:[ 16 ] 100 and index:[ 10 ] 322\n",
      "[14, 15, 16, 22, 23, 33, 52, 56, 61, 70, 100, 87, 99, 89, 98, 73, 322, 6744]\n",
      "Exchange index:[ 15 ] 73 and index:[ 10 ] 100\n",
      "[14, 15, 16, 22, 23, 33, 52, 56, 61, 70, 73, 87, 99, 89, 98, 100, 322, 6744]\n",
      "Exchange index:[ 10 ] 73 and index:[ 10 ] 73\n",
      "[14, 15, 16, 22, 23, 33, 52, 56, 61, 70, 73, 87, 99, 89, 98, 100, 322, 6744]\n",
      "Exchange index:[ 11 ] 87 and index:[ 11 ] 87\n",
      "[14, 15, 16, 22, 23, 33, 52, 56, 61, 70, 73, 87, 99, 89, 98, 100, 322, 6744]\n",
      "Exchange index:[ 14 ] 98 and index:[ 12 ] 99\n",
      "[14, 15, 16, 22, 23, 33, 52, 56, 61, 70, 73, 87, 98, 89, 99, 100, 322, 6744]\n",
      "Exchange index:[ 13 ] 89 and index:[ 12 ] 98\n",
      "[14, 15, 16, 22, 23, 33, 52, 56, 61, 70, 73, 87, 89, 98, 99, 100, 322, 6744]\n"
     ]
    }
   ],
   "source": [
    "def QuickSort(List,first,last):\n",
    "    if(first==last or first>last):\n",
    "        return\n",
    "    else:\n",
    "        small=first\n",
    "        for i in range(first,last+1):\n",
    "            if(List[i]<List[first]):\n",
    "                small+=1\n",
    "                if(small==i):\n",
    "                    continue\n",
    "                else:\n",
    "                    temp=List[i]\n",
    "                    List[i]=List[small]\n",
    "                    List[small]=temp\n",
    "        print(\"Exchange index:[\",small,\"]\",List[small],\"and index:[\",first,\"]\",List[first])\n",
    "        temp=List[first]\n",
    "        List[first]=List[small]\n",
    "        List[small]=temp\n",
    "        print(List)\n",
    "        QuickSort(List,first,small-1)\n",
    "        QuickSort(List,small+1,last)\n",
    "List=[33,23,14,89,98,73,6744,52,56,100,322,87,99,22,15,16,61,70]\n",
    "#List=[18,2,11,5,4,6,9,67,77,100,99,88]\n",
    "print(List)\n",
    "QuickSort(List,0,len(List)-1)"
   ]
  },
  {
   "cell_type": "code",
   "execution_count": 2,
   "id": "9380396c",
   "metadata": {},
   "outputs": [
    {
     "name": "stdout",
     "output_type": "stream",
     "text": [
      "[3, 4, 2, 1, 77, 98, 12, 321, 999, 21, 100]\n",
      "[1, 2, 3, 4, 12, 21, 77, 98, 100, 321, 999]\n"
     ]
    }
   ],
   "source": [
    "def QuickSort(List,first,last):\n",
    "    if(first>=last):\n",
    "        return \n",
    "    else:\n",
    "        small=first\n",
    "        copy_first=first\n",
    "        for i in range(first+1,last+1):\n",
    "            if(List[i]<List[copy_first]):\n",
    "                small+=1\n",
    "                temp=List[small]\n",
    "                List[small]=List[i]\n",
    "                List[i]=temp\n",
    "        pivot=small\n",
    "        temp=List[first]\n",
    "        List[first]=List[pivot]\n",
    "        List[pivot]=temp\n",
    "        QuickSort(List,first,pivot-1)\n",
    "        QuickSort(List,pivot+1,last)\n",
    "List=[3,4,2,1,77,98,12,321,999,21,100]\n",
    "print(List)\n",
    "QuickSort(List,0,len(List)-1)\n",
    "print(List)"
   ]
  },
  {
   "cell_type": "code",
   "execution_count": null,
   "id": "c6759496",
   "metadata": {},
   "outputs": [],
   "source": []
  }
 ],
 "metadata": {
  "kernelspec": {
   "display_name": "Python 3",
   "language": "python",
   "name": "python3"
  },
  "language_info": {
   "codemirror_mode": {
    "name": "ipython",
    "version": 3
   },
   "file_extension": ".py",
   "mimetype": "text/x-python",
   "name": "python",
   "nbconvert_exporter": "python",
   "pygments_lexer": "ipython3",
   "version": "3.8.8"
  }
 },
 "nbformat": 4,
 "nbformat_minor": 5
}
