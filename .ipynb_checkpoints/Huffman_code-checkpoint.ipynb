{
 "cells": [
  {
   "cell_type": "markdown",
   "id": "a194b44d",
   "metadata": {},
   "source": [
    "### Huffman_code_tree"
   ]
  },
  {
   "cell_type": "code",
   "execution_count": 1,
   "id": "2758c3de",
   "metadata": {},
   "outputs": [
    {
     "name": "stdout",
     "output_type": "stream",
     "text": [
      "Please input the stringasdsada\n",
      "['s', 'd', 'a']\n",
      "[2, 2, 3]\n",
      " , 7\n",
      " , 4\n",
      "s , 2\n",
      "d , 2\n",
      "a , 3\n"
     ]
    }
   ],
   "source": [
    "class node():\n",
    "    def __init__(self,symbol,frequency):\n",
    "        self.symbol=symbol\n",
    "        self.frequency=frequency\n",
    "        self.left=None\n",
    "        self.right=None\n",
    "def find_symbol_frequency(str):\n",
    "    symbol=[]\n",
    "    frequency=[]\n",
    "    for i in range(len(str)):\n",
    "        if str[i] not in symbol:\n",
    "            symbol.append(str[i])\n",
    "    for i in range(len(symbol)):\n",
    "        index=0\n",
    "        for j in range(len(str)):\n",
    "            if(symbol[i]==str[j]):\n",
    "                index+=1\n",
    "        frequency.append(index)\n",
    "    return symbol , frequency\n",
    "def change(List,i,j):\n",
    "    temp=List[i]\n",
    "    List[i]=List[j]\n",
    "    List[j]=temp\n",
    "def sort(symbol,frequency):\n",
    "    for i in range(0,len(frequency)):\n",
    "        min=frequency[i]\n",
    "        index=i\n",
    "        for j in range(i,len(frequency)):\n",
    "            if(frequency[j]<min):\n",
    "                min=frequency[j]\n",
    "                index=j\n",
    "        change(frequency,i,index)\n",
    "        change(symbol,i,index)\n",
    "def huffman(symbol,frequency):\n",
    "    List=[]\n",
    "    for i in range(len(symbol)):\n",
    "        r=node(symbol[i],frequency[i])\n",
    "        r.left=None\n",
    "        r.right=None\n",
    "        List.append(r)\n",
    "    for i in range(len(symbol)-1):\n",
    "        size=len(List)\n",
    "        p=List.pop(0)\n",
    "        q=List.pop(0)\n",
    "        r=node(\"\",q.frequency+p.frequency)\n",
    "        r.left=p\n",
    "        r.right=q\n",
    "        for j in range(len(List)):\n",
    "            if(r.frequency>List[j].frequency):\n",
    "                List.insert(j,r) #insert(index,object)\n",
    "        if(size==len(List)+2):\n",
    "            List.insert(0,r)\n",
    "    return List.pop(0)\n",
    "def preOrder(n):\n",
    "    if(n!=None):\n",
    "        print(n.symbol,\",\",n.frequency)\n",
    "        preOrder(n.left)\n",
    "        preOrder(n.right)\n",
    "str1=input(\"Please input the string\")\n",
    "list1,list2=find_symbol_frequency(str1)\n",
    "sort(list1,list2)\n",
    "print(list1)\n",
    "print(list2)\n",
    "node1=huffman(list1,list2)\n",
    "preOrder(node1)"
   ]
  }
 ],
 "metadata": {
  "kernelspec": {
   "display_name": "Python 3",
   "language": "python",
   "name": "python3"
  },
  "language_info": {
   "codemirror_mode": {
    "name": "ipython",
    "version": 3
   },
   "file_extension": ".py",
   "mimetype": "text/x-python",
   "name": "python",
   "nbconvert_exporter": "python",
   "pygments_lexer": "ipython3",
   "version": "3.8.8"
  }
 },
 "nbformat": 4,
 "nbformat_minor": 5
}
