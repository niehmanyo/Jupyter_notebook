{
 "cells": [
  {
   "cell_type": "markdown",
   "id": "d9c4d775",
   "metadata": {},
   "source": [
    "### Heap Sort\n",
    "* Siftdown: To create a Heap which the smallest element is in the first position"
   ]
  },
  {
   "cell_type": "code",
   "execution_count": 6,
   "id": "d7b3bc08",
   "metadata": {},
   "outputs": [
    {
     "name": "stdout",
     "output_type": "stream",
     "text": [
      "[101, 99, 100, 32, 70, 49, 20, 55, 34, 54, 43, 65, 62, 87, 11, 9, 102, 300, 702, 810, 222, 321, 333]\n",
      "[]\n",
      "[]\n",
      "[810, 702, 333, 321, 300, 222, 102, 101, 100, 99, 87, 70, 65, 62, 55, 54, 49, 43, 34, 32, 20, 11, 9]\n",
      "The time is 0.00014379999993252568 s\n"
     ]
    }
   ],
   "source": [
    "import timeit\n",
    "def siftdown(List,i):\n",
    "    largest=i\n",
    "    lson=2*i+1 #left son\n",
    "    rson=2*i+2 #right son\n",
    "    largest_son=lson\n",
    "    if(lson<=len(List)-1):\n",
    "        if(rson<len(List)-1):\n",
    "            if(List[lson]>List[rson]):\n",
    "                largest_son=lson\n",
    "            else:\n",
    "                largest_son=rson\n",
    "        if(List[largest]<List[largest_son]):\n",
    "            swap(List,largest,largest_son)\n",
    "            siftdown(List,largest_son)\n",
    "def makeHeap(List):\n",
    "    size=len(List)\n",
    "    small_father=int((size)/2)\n",
    "    while(small_father>=0):\n",
    "        siftdown(List,small_father)\n",
    "        small_father-=1\n",
    "def removeKey(List,S):\n",
    "    key=List[0]\n",
    "    S.append(key)\n",
    "    List.remove(List[0])\n",
    "def swap(List,i,j):\n",
    "    temp=List[i]\n",
    "    List[i]=List[j]\n",
    "    List[j]=temp\n",
    "def HeapSort(List,S):\n",
    "    i=0\n",
    "    if(i<=len(List)-1):\n",
    "        makeHeap(List)\n",
    "        removeKey(List,S)\n",
    "        HeapSort(List,S)\n",
    "List=[101,99,100,32,70,49,20,55,34,54,43,65,62,87,11,9,102,300,702,810,222,321,333]\n",
    "S=[]\n",
    "print(List)\n",
    "print(S)\n",
    "start=timeit.default_timer()\n",
    "HeapSort(List,S)\n",
    "end=timeit.default_timer()\n",
    "print(List)\n",
    "print(S)\n",
    "print(\"The time is %s s\" %(end-start))"
   ]
  },
  {
   "cell_type": "markdown",
   "id": "648c02c2",
   "metadata": {},
   "source": [
    "### Merge Sort"
   ]
  },
  {
   "cell_type": "code",
   "execution_count": 9,
   "id": "94745f28",
   "metadata": {},
   "outputs": [
    {
     "name": "stdout",
     "output_type": "stream",
     "text": [
      "[101, 99, 100, 32, 70, 49, 20, 55, 34, 54, 43, 65, 62, 87, 11, 9, 102, 300, 702, 810, 222, 321, 333]\n",
      "[9, 11, 20, 32, 34, 43, 49, 54, 55, 62, 65, 70, 87, 99, 100, 101, 102, 222, 300, 321, 333, 702, 810]\n",
      "The time is 0.0001358000001800974 s\n"
     ]
    }
   ],
   "source": [
    "def merge(s,u):\n",
    "    f1=0\n",
    "    f2=0\n",
    "    l1=len(s)-1\n",
    "    l2=len(u)-1\n",
    "    list=[]\n",
    "    while(f1<=l1 and f2<=l2):\n",
    "        if(s[f1]<u[f2]):\n",
    "            list.append(s[f1])\n",
    "            f1+=1\n",
    "        else:\n",
    "            list.append(u[f2])\n",
    "            f2+=1\n",
    "    while(f1<=l1):\n",
    "        list.append(s[f1])\n",
    "        f1+=1\n",
    "    while(f2<=l2):\n",
    "        list.append(u[f2])\n",
    "        f2+=1\n",
    "    return list \n",
    "def creatSub_List(List,first,last):\n",
    "    if(first==last):\n",
    "        list=[List[first]]\n",
    "        return list\n",
    "    else:\n",
    "        list=[]\n",
    "        while(first<=last):\n",
    "            list.append(List[first])\n",
    "            first+=1\n",
    "        return list\n",
    "def MergeSort(List,first,last):\n",
    "    new_List=List\n",
    "    if(first==last):\n",
    "        return new_List\n",
    "    else:\n",
    "        mid=(int)((first+last)/2)\n",
    "        s=creatSub_List(List,first,mid)\n",
    "        u=creatSub_List(List,mid+1,last)\n",
    "        s=MergeSort(s,0,len(s)-1)\n",
    "        u=MergeSort(u,0,len(u)-1)\n",
    "        new_List=merge(s,u)\n",
    "        return new_List\n",
    "    \n",
    "#List=[101,99,100,32,70,49,20,55,34,54,43,65,62,87,11,9,102,300,702,810,222,321,333]\n",
    "#print(\"Original List:\",List)\n",
    "#List=MergeSort(List,0,len(List)-1)\n",
    "#print(\"After Merge Sort:\",List)\n",
    "\n",
    "List=[101,99,100,32,70,49,20,55,34,54,43,65,62,87,11,9,102,300,702,810,222,321,333]\n",
    "print(List)\n",
    "start=timeit.default_timer()\n",
    "List=MergeSort(List,0,len(List)-1)\n",
    "end=timeit.default_timer()\n",
    "print(List)\n",
    "print(\"The time is %s s\" %(end-start))"
   ]
  },
  {
   "cell_type": "markdown",
   "id": "bc393261",
   "metadata": {},
   "source": [
    "##### Comparison between Merge Sort and Heap Sort by using timeit\n",
    "<p>The heap sort consume 0.00014379999993252568 s</p>\n",
    "<p>The merge sort consume 0.0001358000001800974 s</p><p>It seems when n is becoming larger,then the time will reduce more</p>"
   ]
  },
  {
   "cell_type": "code",
   "execution_count": null,
   "id": "9ffdac48",
   "metadata": {},
   "outputs": [],
   "source": []
  },
  {
   "cell_type": "code",
   "execution_count": null,
   "id": "ef0ad44d",
   "metadata": {},
   "outputs": [],
   "source": []
  }
 ],
 "metadata": {
  "kernelspec": {
   "display_name": "Python 3",
   "language": "python",
   "name": "python3"
  },
  "language_info": {
   "codemirror_mode": {
    "name": "ipython",
    "version": 3
   },
   "file_extension": ".py",
   "mimetype": "text/x-python",
   "name": "python",
   "nbconvert_exporter": "python",
   "pygments_lexer": "ipython3",
   "version": "3.8.8"
  }
 },
 "nbformat": 4,
 "nbformat_minor": 5
}
