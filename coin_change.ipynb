{
 "cells": [
  {
   "cell_type": "markdown",
   "id": "ab9ff41c",
   "metadata": {},
   "source": [
    "### Coin change problem"
   ]
  },
  {
   "cell_type": "code",
   "execution_count": 21,
   "id": "638f89e4",
   "metadata": {},
   "outputs": [
    {
     "name": "stdout",
     "output_type": "stream",
     "text": [
      "Please input the number you want:86\n",
      "Please input the total number of coin6\n",
      "Please input No. 1 money in descending order\n",
      "100\n",
      "Please input No. 2 money in descending order\n",
      "50\n",
      "Please input No. 3 money in descending order\n",
      "25\n",
      "Please input No. 4 money in descending order\n",
      "10\n",
      "Please input No. 5 money in descending order\n",
      "5\n",
      "Please input No. 6 money in descending order\n",
      "1\n",
      "50 for 1,25 for 1,10 for 1,1 for 1,"
     ]
    }
   ],
   "source": [
    "import numpy as np\n",
    "x=int(input(\"Please input the number you want:\"))\n",
    "n=int(input(\"Please input the total number of coin:\"))\n",
    "List=[]\n",
    "for i in range(n):\n",
    "    print(\"Please input No.\",i+1,\"money in descending order\")\n",
    "    money=int(input())\n",
    "    List.append(money)\n",
    "coin=np.zeros(len(List),dtype=np.int_)\n",
    "index=0\n",
    "while(x>0):\n",
    "    if(x>=List[index]):\n",
    "        coin[index]+=1\n",
    "        x-=List[index]\n",
    "    else:\n",
    "        index+=1\n",
    "for i in range(len(List)):\n",
    "    if(coin[i]!=0):\n",
    "        print(List[i],\"for\",coin[i],end=\",\") "
   ]
  },
  {
   "cell_type": "code",
   "execution_count": null,
   "id": "a732d4b6",
   "metadata": {},
   "outputs": [],
   "source": []
  },
  {
   "cell_type": "markdown",
   "id": "98536ad0",
   "metadata": {},
   "source": [
    "### Most common sequence "
   ]
  },
  {
   "cell_type": "code",
   "execution_count": 1,
   "id": "42a67ea2",
   "metadata": {
    "scrolled": false
   },
   "outputs": [
    {
     "name": "stdout",
     "output_type": "stream",
     "text": [
      "Please input string 1:abcd123\n",
      "Please input string 2:123abcd\n",
      "[[ 7  8  8  6  8 10 12 14]\n",
      " [ 8  6  7  8  6  8 10 12]\n",
      " [ 9  7  5  6  7  6  8 10]\n",
      " [10  8  6  4  5  6  6  8]\n",
      " [ 8  9  7  5  3  4  5  6]\n",
      " [10  8  8  6  4  2  3  4]\n",
      " [12 10  8  7  5  3  1  2]\n",
      " [14 12 10  8  6  4  2  0]]\n"
     ]
    }
   ],
   "source": [
    "import numpy as np\n",
    "def common_sequence(array,max_str,min_str):\n",
    "    i=array.shape[0]-2\n",
    "    j=array.shape[1]-2\n",
    "    while(i>=0):\n",
    "        c_j=j\n",
    "        while(c_j>=0):\n",
    "            if(min_str[i]==max_str[c_j]):\n",
    "                cost=0\n",
    "            else:\n",
    "                cost=1\n",
    "            array[i][c_j]=min(array[i+1][c_j+1]+cost,array[i+1][c_j]+2,array[i][c_j+1]+2)\n",
    "            c_j-=1\n",
    "        i-=1\n",
    "    \n",
    "str1=input(\"Please input string 1:\")\n",
    "str2=input(\"Please input string 2:\")\n",
    "if(len(str1)>len(str2)):\n",
    "    max_str=str1\n",
    "    min_str=str2\n",
    "else:\n",
    "    max_str=str2\n",
    "    min_str=str1\n",
    "array1=np.zeros((len(min_str)+1,len(max_str)+1),dtype=np.int_)\n",
    "last1=len(array1[len(min_str)])-1\n",
    "last2=len(min_str)\n",
    "while(last1>0):\n",
    "    array1[len(min_str),last1-1]=array1[len(min_str),last1]+2 ###when last==-1,it means it will go back to the last element!!\n",
    "    last1-=1\n",
    "while(last2>0):\n",
    "    array1[last2-1,len(max_str)]=array1[last2,len(max_str)]+2\n",
    "    last2-=1\n",
    "common_sequence(array1,max_str,min_str)\n",
    "print(array1)"
   ]
  },
  {
   "cell_type": "code",
   "execution_count": null,
   "id": "63a69c87",
   "metadata": {},
   "outputs": [],
   "source": []
  },
  {
   "cell_type": "code",
   "execution_count": null,
   "id": "b2e378a8",
   "metadata": {},
   "outputs": [],
   "source": []
  },
  {
   "cell_type": "code",
   "execution_count": null,
   "id": "07b5a337",
   "metadata": {},
   "outputs": [],
   "source": []
  }
 ],
 "metadata": {
  "kernelspec": {
   "display_name": "Python 3",
   "language": "python",
   "name": "python3"
  },
  "language_info": {
   "codemirror_mode": {
    "name": "ipython",
    "version": 3
   },
   "file_extension": ".py",
   "mimetype": "text/x-python",
   "name": "python",
   "nbconvert_exporter": "python",
   "pygments_lexer": "ipython3",
   "version": "3.8.8"
  }
 },
 "nbformat": 4,
 "nbformat_minor": 5
}
