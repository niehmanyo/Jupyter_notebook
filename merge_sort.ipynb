{
 "cells": [
  {
   "cell_type": "markdown",
   "id": "33110a47",
   "metadata": {},
   "source": [
    "# Merge Sort\n",
    "<h4><font color='red'>Warming:Please remember python is not c++,your list should be from 0 to length-1 instead of index,then the list will out of range</font></h4>"
   ]
  },
  {
   "cell_type": "code",
   "execution_count": 3,
   "id": "e0138fbb",
   "metadata": {},
   "outputs": [
    {
     "name": "stdout",
     "output_type": "stream",
     "text": [
      "[1, 2, 3, 4, 5, 9, 8, 7, 6, 10]\n",
      "[1, 2, 3, 4, 5] and [9, 8, 7, 6, 10]\n",
      "[1, 2, 3] and [4, 5]\n",
      "[1, 2] and [3]\n",
      "[1] and [2]\n",
      "[1, 2]\n",
      "[1, 2, 3]\n",
      "[4] and [5]\n",
      "[4, 5]\n",
      "[1, 2, 3, 4, 5]\n",
      "[9, 8, 7] and [6, 10]\n",
      "[9, 8] and [7]\n",
      "[9] and [8]\n",
      "[8, 9]\n",
      "[7, 8, 9]\n",
      "[6] and [10]\n",
      "[6, 10]\n",
      "[6, 7, 8, 9, 10]\n",
      "[1, 2, 3, 4, 5, 6, 7, 8, 9, 10]\n",
      "[1, 2, 3, 4, 5, 6, 7, 8, 9, 10]\n"
     ]
    }
   ],
   "source": [
    "def merge(s,u):\n",
    "    f1=0\n",
    "    f2=0\n",
    "    l1=len(s)-1\n",
    "    l2=len(u)-1\n",
    "    list=[]\n",
    "    while(f1<=l1 and f2<=l2):\n",
    "        if(s[f1]<u[f2]):\n",
    "            list.append(s[f1])\n",
    "            f1+=1\n",
    "        else:\n",
    "            list.append(u[f2])\n",
    "            f2+=1\n",
    "    while(f1<=l1):\n",
    "        list.append(s[f1])\n",
    "        f1+=1\n",
    "    while(f2<=l2):\n",
    "        list.append(u[f2])\n",
    "        f2+=1\n",
    "    return list \n",
    "def creatSub_List(List,first,last):\n",
    "    if(first==last):\n",
    "        list=[List[first]]\n",
    "        return list\n",
    "    else:\n",
    "        list=[]\n",
    "        while(first<=last):\n",
    "            list.append(List[first])\n",
    "            first+=1\n",
    "        return list\n",
    "def MergeSort(List,first,last):\n",
    "    new_List=List\n",
    "    if(first==last):\n",
    "        return new_List\n",
    "    else:\n",
    "        mid=(int)((first+last)/2)\n",
    "        s=creatSub_List(List,first,mid)\n",
    "        u=creatSub_List(List,mid+1,last)\n",
    "        print(s,\"and\",u)\n",
    "        s=MergeSort(s,0,len(s)-1)\n",
    "        u=MergeSort(u,0,len(u)-1)\n",
    "        new_List=merge(s,u)\n",
    "        print(new_List)\n",
    "        return new_List\n",
    "    \n",
    "#List=[101,99,100,32,70,49,20,55,34,54,43,65,62,87,11,9,102,300,702,810,222,321,333]\n",
    "#print(\"Original List:\",List)\n",
    "#List=MergeSort(List,0,len(List)-1)\n",
    "#print(\"After Merge Sort:\",List)\n",
    "\n",
    "List=[1,2,3,4,5,9,8,7,6,10]\n",
    "print(List)\n",
    "List=MergeSort(List,0,len(List)-1)\n",
    "print(List)"
   ]
  },
  {
   "cell_type": "markdown",
   "id": "732b54d8",
   "metadata": {},
   "source": [
    "### Merge Sort 2.0 \n",
    "<h3>With updated</h3>"
   ]
  },
  {
   "cell_type": "code",
   "execution_count": 1,
   "id": "5071c7ea",
   "metadata": {},
   "outputs": [
    {
     "name": "stdout",
     "output_type": "stream",
     "text": [
      "[3, 4, 2, 1, 77, 98, 12, 321, 999, 21]\n",
      "[1, 2, 3, 4, 12, 21, 77, 98, 321, 999]\n"
     ]
    }
   ],
   "source": [
    "def MergeSort(List,first,last):\n",
    "    if(first!=last):\n",
    "        mid=(first+last)//2\n",
    "        MergeSort(List,first,mid)\n",
    "        MergeSort(List,mid+1,last)\n",
    "        Merge(List,first,mid,mid+1,last)\n",
    "def Merge(List,f1,l1,f2,l2):\n",
    "    Copy_List=[]\n",
    "    first=f1\n",
    "    while(f1<=l1 and f2<=l2):\n",
    "        if(List[f1]<List[f2]):\n",
    "            Copy_List.append(List[f1])\n",
    "            f1+=1\n",
    "        else:\n",
    "            Copy_List.append(List[f2])\n",
    "            f2+=1\n",
    "    while(f1<=l1):\n",
    "        Copy_List.append(List[f1])\n",
    "        f1+=1\n",
    "    while(f2<=l2):\n",
    "        Copy_List.append(List[f2])\n",
    "        f2+=1\n",
    "    for i in range(len(Copy_List)):\n",
    "        List[first]=Copy_List[i]\n",
    "        first+=1\n",
    "List=[3,4,2,1,77,98,12,321,999,21]\n",
    "print(List)\n",
    "MergeSort(List,0,len(List)-1)\n",
    "print(List)"
   ]
  },
  {
   "cell_type": "code",
   "execution_count": null,
   "id": "68edad78",
   "metadata": {},
   "outputs": [],
   "source": []
  }
 ],
 "metadata": {
  "kernelspec": {
   "display_name": "Python 3",
   "language": "python",
   "name": "python3"
  },
  "language_info": {
   "codemirror_mode": {
    "name": "ipython",
    "version": 3
   },
   "file_extension": ".py",
   "mimetype": "text/x-python",
   "name": "python",
   "nbconvert_exporter": "python",
   "pygments_lexer": "ipython3",
   "version": "3.8.8"
  }
 },
 "nbformat": 4,
 "nbformat_minor": 5
}
